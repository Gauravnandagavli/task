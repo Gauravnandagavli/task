{
 "cells": [
  {
   "cell_type": "markdown",
   "id": "e5e34d6a-04d8-48b3-8a85-3cfb84197056",
   "metadata": {},
   "source": [
    "# list"
   ]
  },
  {
   "cell_type": "code",
   "execution_count": 2,
   "id": "7c4a966d-bb15-4a14-86b6-d3f976fa203d",
   "metadata": {},
   "outputs": [
    {
     "data": {
      "text/plain": [
       "[1, 2, 3]"
      ]
     },
     "execution_count": 2,
     "metadata": {},
     "output_type": "execute_result"
    }
   ],
   "source": [
    "[1,2,3]"
   ]
  },
  {
   "cell_type": "code",
   "execution_count": 3,
   "id": "7d57ed6c-247d-4fc1-9f61-365d149ab2bf",
   "metadata": {},
   "outputs": [
    {
     "data": {
      "text/plain": [
       "['a1', 'a2', 'a3']"
      ]
     },
     "execution_count": 3,
     "metadata": {},
     "output_type": "execute_result"
    }
   ],
   "source": [
    "['a1','a2','a3']"
   ]
  },
  {
   "cell_type": "code",
   "execution_count": 5,
   "id": "3894e30d-8267-47fc-9e3e-b9fda7a2aa65",
   "metadata": {},
   "outputs": [
    {
     "data": {
      "text/plain": [
       "[1, 'a1', 2, 'a2', 3, 'a3']"
      ]
     },
     "execution_count": 5,
     "metadata": {},
     "output_type": "execute_result"
    }
   ],
   "source": [
    "[1,'a1',2,'a2',3,'a3']"
   ]
  },
  {
   "cell_type": "code",
   "execution_count": null,
   "id": "51c0bf24-1bca-4f5f-a7e7-74d8da4367f5",
   "metadata": {},
   "outputs": [],
   "source": [
    "\n"
   ]
  },
  {
   "cell_type": "markdown",
   "id": "e4e069ec-802f-47f9-8441-2318229d4d65",
   "metadata": {},
   "source": [
    "# Count"
   ]
  },
  {
   "cell_type": "code",
   "execution_count": 9,
   "id": "685ac196-c110-4647-b055-f302264d6a98",
   "metadata": {},
   "outputs": [
    {
     "data": {
      "text/plain": [
       "2"
      ]
     },
     "execution_count": 9,
     "metadata": {},
     "output_type": "execute_result"
    }
   ],
   "source": [
    "L2 = [1,1,2,3,4,5,6]\n",
    "L2.count(1)"
   ]
  },
  {
   "cell_type": "code",
   "execution_count": null,
   "id": "826ef43d-05f9-44a9-a9a6-1f521dddc79e",
   "metadata": {},
   "outputs": [],
   "source": []
  },
  {
   "cell_type": "markdown",
   "id": "bc577c90-b3ef-4605-b602-bf04e52b1d41",
   "metadata": {},
   "source": [
    "# Extend"
   ]
  },
  {
   "cell_type": "code",
   "execution_count": 25,
   "id": "5a7b2d52-1a85-4366-9770-7d7209870962",
   "metadata": {},
   "outputs": [],
   "source": [
    "stock = ['tatapower','ncc','rictc','zomzto']\n",
    "mf = ['adityabirla','sbi','hdfcsmallcap']"
   ]
  },
  {
   "cell_type": "code",
   "execution_count": 27,
   "id": "8d580964-9e0a-4d37-8474-7265074a6fcc",
   "metadata": {},
   "outputs": [
    {
     "name": "stdout",
     "output_type": "stream",
     "text": [
      "['tatapower', 'ncc', 'rictc', 'zomzto']\n",
      "['adityabirla', 'sbi', 'hdfcsmallcap']\n"
     ]
    }
   ],
   "source": [
    "print(stock)\n",
    "print(mf)"
   ]
  },
  {
   "cell_type": "code",
   "execution_count": 30,
   "id": "c0736d37-ab54-4eed-b5ee-b674509b0bbc",
   "metadata": {},
   "outputs": [],
   "source": [
    "stock.extend(mf)"
   ]
  },
  {
   "cell_type": "code",
   "execution_count": null,
   "id": "42eb526c-12b8-4518-82fb-9ef1c9cc6330",
   "metadata": {},
   "outputs": [],
   "source": []
  },
  {
   "cell_type": "markdown",
   "id": "19d2ee4d-5258-40b8-b7af-ae52301a26b3",
   "metadata": {},
   "source": [
    "# Pop"
   ]
  },
  {
   "cell_type": "code",
   "execution_count": 3,
   "id": "415927b8-aeea-452a-973b-0b000ecd3eee",
   "metadata": {},
   "outputs": [
    {
     "data": {
      "text/plain": [
       "['apple', 'banana', 'cherry', 'orange']"
      ]
     },
     "execution_count": 3,
     "metadata": {},
     "output_type": "execute_result"
    }
   ],
   "source": [
    "fruits = [\"apple\", \"banana\", \"cherry\", \"orange\"]\n",
    "fruits"
   ]
  },
  {
   "cell_type": "code",
   "execution_count": 5,
   "id": "618d8c93-33fc-4601-8b74-1696b77cc054",
   "metadata": {},
   "outputs": [
    {
     "data": {
      "text/plain": [
       "['apple', 'orange']"
      ]
     },
     "execution_count": 5,
     "metadata": {},
     "output_type": "execute_result"
    }
   ],
   "source": [
    "removed_fruit = fruits.pop(1)\n",
    "fruits"
   ]
  },
  {
   "cell_type": "code",
   "execution_count": null,
   "id": "23a53ae2-a546-4515-a696-87aa4e6dbac5",
   "metadata": {},
   "outputs": [],
   "source": []
  },
  {
   "cell_type": "markdown",
   "id": "827aaf5f-0055-475b-a012-1988b0e1a655",
   "metadata": {},
   "source": [
    "# Fromkeys"
   ]
  },
  {
   "cell_type": "code",
   "execution_count": 48,
   "id": "df39f603-e92b-4389-9425-ea395c1f3ab9",
   "metadata": {},
   "outputs": [
    {
     "name": "stdout",
     "output_type": "stream",
     "text": [
      "{'a4': 50, 'a5': 50}\n"
     ]
    }
   ],
   "source": [
    "dict2 = ('a4','a5')\n",
    "dict3 = 50\n",
    "new_dict = dict.fromkeys(dict2,dict3)\n",
    "print(new_dict)"
   ]
  },
  {
   "cell_type": "code",
   "execution_count": null,
   "id": "3a9bc984-b632-4482-a215-645569b03943",
   "metadata": {},
   "outputs": [],
   "source": []
  },
  {
   "cell_type": "markdown",
   "id": "c687e758-03f0-4405-8043-b25c32a3c529",
   "metadata": {},
   "source": [
    "# Popitem"
   ]
  },
  {
   "cell_type": "code",
   "execution_count": 61,
   "id": "e0e61244-6b98-4978-a886-59fcb8c1de24",
   "metadata": {},
   "outputs": [
    {
     "data": {
      "text/plain": [
       "{'f1': 100, 'f2': 500, 'f3': 550}"
      ]
     },
     "execution_count": 61,
     "metadata": {},
     "output_type": "execute_result"
    }
   ],
   "source": [
    "dict4 = {'f1':100,'f2':500,'f3':550}\n",
    "dict4"
   ]
  },
  {
   "cell_type": "code",
   "execution_count": 62,
   "id": "f3628523-0b73-4bec-bec9-a4cf88a1ae4f",
   "metadata": {},
   "outputs": [
    {
     "data": {
      "text/plain": [
       "('f3', 550)"
      ]
     },
     "execution_count": 62,
     "metadata": {},
     "output_type": "execute_result"
    }
   ],
   "source": [
    "item = dict4.popitem()\n",
    "item"
   ]
  },
  {
   "cell_type": "code",
   "execution_count": 65,
   "id": "cbf7fbf4-1df4-4db9-b318-fef47ef64b51",
   "metadata": {},
   "outputs": [],
   "source": [
    "item = dict4.popitem()"
   ]
  },
  {
   "cell_type": "code",
   "execution_count": 66,
   "id": "a045d088-b72d-41ed-bd2b-4dc6e7c5291d",
   "metadata": {},
   "outputs": [
    {
     "data": {
      "text/plain": [
       "('f2', 500)"
      ]
     },
     "execution_count": 66,
     "metadata": {},
     "output_type": "execute_result"
    }
   ],
   "source": [
    "item"
   ]
  },
  {
   "cell_type": "code",
   "execution_count": 67,
   "id": "6c3a7851-ae05-48e0-a7c3-87805372b5ff",
   "metadata": {},
   "outputs": [
    {
     "data": {
      "text/plain": [
       "{'f1': 100}"
      ]
     },
     "execution_count": 67,
     "metadata": {},
     "output_type": "execute_result"
    }
   ],
   "source": [
    "dict4"
   ]
  },
  {
   "cell_type": "code",
   "execution_count": null,
   "id": "1ed5f5d4-35b7-4b43-aa30-9056deeed702",
   "metadata": {},
   "outputs": [],
   "source": []
  },
  {
   "cell_type": "code",
   "execution_count": null,
   "id": "ea468e13-a6a9-4f16-b131-f5031d5c9db0",
   "metadata": {},
   "outputs": [],
   "source": []
  },
  {
   "cell_type": "markdown",
   "id": "2fb732af-aff3-428b-b8dd-3af2fc23ce10",
   "metadata": {},
   "source": [
    "#  Changevalue"
   ]
  },
  {
   "cell_type": "code",
   "execution_count": 79,
   "id": "ac659391-aeb2-4877-9c5f-f1d2d608ff2b",
   "metadata": {},
   "outputs": [
    {
     "data": {
      "text/plain": [
       "(45, 23, 56, 20)"
      ]
     },
     "execution_count": 79,
     "metadata": {},
     "output_type": "execute_result"
    }
   ],
   "source": [
    "l1 = (45,23,56,20)\n",
    "l1"
   ]
  },
  {
   "cell_type": "code",
   "execution_count": 81,
   "id": "18e092b4-247d-4b53-9ae8-64a690c1beb3",
   "metadata": {},
   "outputs": [
    {
     "data": {
      "text/plain": [
       "23"
      ]
     },
     "execution_count": 81,
     "metadata": {},
     "output_type": "execute_result"
    }
   ],
   "source": [
    "l1[1]"
   ]
  },
  {
   "cell_type": "code",
   "execution_count": null,
   "id": "64def60f-2948-4cfd-95ae-75fad8f9d82a",
   "metadata": {},
   "outputs": [],
   "source": []
  }
 ],
 "metadata": {
  "kernelspec": {
   "display_name": "Python 3 (ipykernel)",
   "language": "python",
   "name": "python3"
  },
  "language_info": {
   "codemirror_mode": {
    "name": "ipython",
    "version": 3
   },
   "file_extension": ".py",
   "mimetype": "text/x-python",
   "name": "python",
   "nbconvert_exporter": "python",
   "pygments_lexer": "ipython3",
   "version": "3.11.7"
  }
 },
 "nbformat": 4,
 "nbformat_minor": 5
}
