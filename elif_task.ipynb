{
 "cells": [
  {
   "cell_type": "markdown",
   "id": "6bd6ab41-6b24-4392-8f00-590342009ff4",
   "metadata": {},
   "source": [
    "# Jointext"
   ]
  },
  {
   "cell_type": "code",
   "execution_count": 8,
   "id": "47be7f7c-b280-44a7-bb89-99995bb23be3",
   "metadata": {},
   "outputs": [],
   "source": [
    "def join_text (*args,seperator=''):\n",
    "    return seperator.join(args)"
   ]
  },
  {
   "cell_type": "code",
   "execution_count": 5,
   "id": "b3ae9e97-f4ef-4bf7-bd2d-26f7dcdc1cd4",
   "metadata": {},
   "outputs": [
    {
     "name": "stdout",
     "output_type": "stream",
     "text": [
      "arc intsitute\n"
     ]
    }
   ],
   "source": [
    "g1 = \"arc\"\n",
    "g2 = \"intsitute\"\n",
    "joined_text = join_text(g1,g2,seperator=' ')\n",
    "print(joined_text)"
   ]
  },
  {
   "cell_type": "code",
   "execution_count": null,
   "id": "d9b7b29e-a972-4652-878b-a62ca3c4a167",
   "metadata": {},
   "outputs": [],
   "source": []
  },
  {
   "cell_type": "markdown",
   "id": "0b5e1fab-d55c-4250-ae56-de828c32bae7",
   "metadata": {},
   "source": [
    "# Trimtext"
   ]
  },
  {
   "cell_type": "code",
   "execution_count": 22,
   "id": "30a109a5-0174-4a81-bee0-1fbaabdb76b4",
   "metadata": {},
   "outputs": [],
   "source": [
    "def trim(text,side = 'both'):\n",
    "    if side == 'left':\n",
    "        return text.lstrip()\n",
    "    elif side == 'right':\n",
    "        return text.rstrip()\n",
    "    elif side == 'both':\n",
    "        return text.strip()"
   ]
  },
  {
   "cell_type": "code",
   "execution_count": 15,
   "id": "a1b582c7-ca6a-4a48-8aea-13f9c367f883",
   "metadata": {},
   "outputs": [
    {
     "name": "stdout",
     "output_type": "stream",
     "text": [
      "trimmed(both side): arc institute\n"
     ]
    }
   ],
   "source": [
    "text = \"arc institute\"\n",
    "trimmed_text_both = trim(text)\n",
    "print('trimmed(both side):',trimmed_text_both)"
   ]
  },
  {
   "cell_type": "code",
   "execution_count": null,
   "id": "e782c0dc-dcfb-40c0-8107-a53c5642a8e8",
   "metadata": {},
   "outputs": [],
   "source": []
  },
  {
   "cell_type": "markdown",
   "id": "8f2fb68c-478a-44c9-9100-13af4a7bf195",
   "metadata": {},
   "source": [
    "# Substitudetext"
   ]
  },
  {
   "cell_type": "code",
   "execution_count": 39,
   "id": "11f65031-f2c3-4883-9fa8-741037a8be21",
   "metadata": {},
   "outputs": [],
   "source": [
    "def substitute(text,old,new):\n",
    "    return text.replace(old,new)\n",
    "\n",
    "real_text = \"sonal is eat mango\"\n",
    "old_text = \"eat\"\n",
    "new_text = \"is not eat\"\n",
    "\n",
    "substituted_text = substitute(real_text,old_text,new_text)"
   ]
  },
  {
   "cell_type": "code",
   "execution_count": 40,
   "id": "3e7edad7-49fd-4801-968a-2212021fb65d",
   "metadata": {},
   "outputs": [
    {
     "name": "stdout",
     "output_type": "stream",
     "text": [
      "sonal is eat mango\n",
      "sonal is is not eat mango\n"
     ]
    }
   ],
   "source": [
    "print(real_text)\n",
    "print(substituted_text)"
   ]
  },
  {
   "cell_type": "code",
   "execution_count": null,
   "id": "b8fc66b6-f776-4c5a-987d-16ab7fb6d550",
   "metadata": {},
   "outputs": [],
   "source": []
  },
  {
   "cell_type": "markdown",
   "id": "da806b10-f9be-47a2-a84a-74409d9724de",
   "metadata": {},
   "source": [
    "# Cuttext"
   ]
  },
  {
   "cell_type": "code",
   "execution_count": 41,
   "id": "10e29ed1-d05e-4c3b-90cd-16a6c4d307a9",
   "metadata": {},
   "outputs": [],
   "source": [
    "def cut_text(text,start,end):\n",
    "    return text[start:end]"
   ]
  },
  {
   "cell_type": "code",
   "execution_count": 44,
   "id": "f2b52d99-cccd-49aa-9e92-7a23fcb67821",
   "metadata": {},
   "outputs": [],
   "source": [
    "real_text = \"sonal is good student\"\n",
    "start_position = 5\n",
    "end_position = 20\n",
    "\n",
    "cut_portion = cut_text(real_text,start_position,end_position)"
   ]
  },
  {
   "cell_type": "code",
   "execution_count": 45,
   "id": "8a4107d4-02a7-4b28-a053-418d34cf2de2",
   "metadata": {},
   "outputs": [
    {
     "name": "stdout",
     "output_type": "stream",
     "text": [
      "sonal is good student\n",
      " is good studen\n"
     ]
    }
   ],
   "source": [
    "print(real_text)\n",
    "print(cut_portion)"
   ]
  },
  {
   "cell_type": "code",
   "execution_count": null,
   "id": "b2e5e653-55bf-4022-b321-070a0041ce5f",
   "metadata": {},
   "outputs": [],
   "source": []
  }
 ],
 "metadata": {
  "kernelspec": {
   "display_name": "Python 3 (ipykernel)",
   "language": "python",
   "name": "python3"
  },
  "language_info": {
   "codemirror_mode": {
    "name": "ipython",
    "version": 3
   },
   "file_extension": ".py",
   "mimetype": "text/x-python",
   "name": "python",
   "nbconvert_exporter": "python",
   "pygments_lexer": "ipython3",
   "version": "3.11.7"
  }
 },
 "nbformat": 4,
 "nbformat_minor": 5
}
