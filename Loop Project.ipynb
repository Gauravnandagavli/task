{
 "cells": [
  {
   "cell_type": "markdown",
   "metadata": {},
   "source": [
    "# Loop"
   ]
  },
  {
   "cell_type": "code",
   "execution_count": 2,
   "metadata": {},
   "outputs": [],
   "source": [
    "mstock = ['zomato','ncc','suthbank',\n",
    "'tatapower','mrf','irctc','vedanta'\n",
    ",'hotel','swiggy']"
   ]
  },
  {
   "cell_type": "code",
   "execution_count": 3,
   "metadata": {},
   "outputs": [
    {
     "data": {
      "text/plain": [
       "['zomato',\n",
       " 'ncc',\n",
       " 'suthbank',\n",
       " 'tatapower',\n",
       " 'mrf',\n",
       " 'irctc',\n",
       " 'vedanta',\n",
       " 'hotel',\n",
       " 'swiggy']"
      ]
     },
     "execution_count": 3,
     "metadata": {},
     "output_type": "execute_result"
    }
   ],
   "source": [
    "mstock"
   ]
  },
  {
   "cell_type": "code",
   "execution_count": 4,
   "metadata": {},
   "outputs": [
    {
     "name": "stdout",
     "output_type": "stream",
     "text": [
      "['zomato', 'ncc', 'suthbank', 'tatapower', 'mrf', 'irctc', 'vedanta', 'hotel', 'swiggy']\n"
     ]
    }
   ],
   "source": [
    "print(mstock)"
   ]
  },
  {
   "cell_type": "code",
   "execution_count": 12,
   "metadata": {},
   "outputs": [
    {
     "name": "stdout",
     "output_type": "stream",
     "text": [
      "['zomato', 'ncc', 'suthbank', 'tatapower', 'mrf', 'irctc', 'vedanta', 'hotel', 'swiggy']\n",
      "zomato\n",
      "ncc\n",
      "suthbank\n",
      "tatapower\n",
      "mrf\n",
      "irctc\n",
      "vedanta\n",
      "hotel\n",
      "swiggy\n"
     ]
    }
   ],
   "source": [
    "print(mstock)\n",
    "for g in mstock:\n",
    "    print(g)"
   ]
  },
  {
   "cell_type": "code",
   "execution_count": 33,
   "metadata": {},
   "outputs": [],
   "source": [
    "mstoct = ['irctc','ncc','swiggy']"
   ]
  },
  {
   "cell_type": "code",
   "execution_count": 34,
   "metadata": {},
   "outputs": [
    {
     "name": "stdout",
     "output_type": "stream",
     "text": [
      "zomato\n",
      "ncc\n"
     ]
    }
   ],
   "source": [
    "for g in mstock:\n",
    "    print(g)\n",
    "    if g == \"ncc\":\n",
    "        break"
   ]
  },
  {
   "cell_type": "code",
   "execution_count": 35,
   "metadata": {},
   "outputs": [
    {
     "name": "stdout",
     "output_type": "stream",
     "text": [
      "['zomato', 'ncc', 'suthbank', 'tatapower', 'mrf', 'irctc', 'vedanta', 'hotel', 'swiggy']\n",
      "zomato\n",
      "ncc\n",
      "suthbank\n",
      "tatapower\n",
      "mrf\n",
      "irctc\n"
     ]
    }
   ],
   "source": [
    "\n",
    "print(mstock)\n",
    "for g in mstock:\n",
    "    print(g)\n",
    "    if g =='irctc':\n",
    "      break"
   ]
  },
  {
   "cell_type": "markdown",
   "metadata": {},
   "source": [
    "# Continue"
   ]
  },
  {
   "cell_type": "code",
   "execution_count": 36,
   "metadata": {},
   "outputs": [
    {
     "name": "stdout",
     "output_type": "stream",
     "text": [
      "zomato\n",
      "ncc\n",
      "suthbank\n",
      "mrf\n",
      "irctc\n",
      "vedanta\n",
      "hotel\n",
      "swiggy\n"
     ]
    }
   ],
   "source": [
    "\n",
    "for g in mstock :\n",
    "  if g == \"tatapower\":\n",
    "    continue\n",
    "  print(g)"
   ]
  },
  {
   "cell_type": "markdown",
   "metadata": {},
   "source": [
    "# Range"
   ]
  },
  {
   "cell_type": "code",
   "execution_count": 43,
   "metadata": {},
   "outputs": [
    {
     "name": "stdout",
     "output_type": "stream",
     "text": [
      "6\n",
      "9\n",
      "12\n",
      "15\n",
      "18\n",
      "21\n",
      "24\n",
      "27\n",
      "30\n",
      "33\n",
      "36\n",
      "39\n",
      "42\n",
      "45\n",
      "48\n",
      "51\n",
      "54\n",
      "57\n"
     ]
    }
   ],
   "source": [
    "\n",
    "for g in range(6,60,3):\n",
    "  print(g)"
   ]
  },
  {
   "cell_type": "code",
   "execution_count": 45,
   "metadata": {},
   "outputs": [
    {
     "name": "stdout",
     "output_type": "stream",
     "text": [
      "0\n",
      "1\n",
      "2\n",
      "3\n",
      "4\n",
      "5\n",
      "6\n",
      "7\n",
      "8\n",
      "9\n",
      "10\n",
      "11\n",
      "12\n",
      "13\n",
      "14\n",
      "15\n",
      "16\n",
      "17\n",
      "18\n",
      "19\n",
      "20\n",
      "21\n",
      "22\n",
      "23\n",
      "24\n",
      "25\n",
      "26\n",
      "27\n",
      "28\n",
      "29\n",
      "30\n",
      "31\n",
      "Finally finished!\n"
     ]
    }
   ],
   "source": [
    "\n",
    "for g in range(32):\n",
    "  print(g)\n",
    "else:\n",
    "  print(\"Finally finished!\")"
   ]
  },
  {
   "cell_type": "markdown",
   "metadata": {},
   "source": [
    "# Nested loop"
   ]
  },
  {
   "cell_type": "code",
   "execution_count": 46,
   "metadata": {},
   "outputs": [
    {
     "name": "stdout",
     "output_type": "stream",
     "text": [
      "zomato zomato\n",
      "zomato ncc\n",
      "zomato suthbank\n",
      "zomato tatapower\n",
      "zomato mrf\n",
      "zomato irctc\n",
      "zomato vedanta\n",
      "zomato hotel\n",
      "zomato swiggy\n",
      "ncc zomato\n",
      "ncc ncc\n",
      "ncc suthbank\n",
      "ncc tatapower\n",
      "ncc mrf\n",
      "ncc irctc\n",
      "ncc vedanta\n",
      "ncc hotel\n",
      "ncc swiggy\n",
      "suthbank zomato\n",
      "suthbank ncc\n",
      "suthbank suthbank\n",
      "suthbank tatapower\n",
      "suthbank mrf\n",
      "suthbank irctc\n",
      "suthbank vedanta\n",
      "suthbank hotel\n",
      "suthbank swiggy\n",
      "tatapower zomato\n",
      "tatapower ncc\n",
      "tatapower suthbank\n",
      "tatapower tatapower\n",
      "tatapower mrf\n",
      "tatapower irctc\n",
      "tatapower vedanta\n",
      "tatapower hotel\n",
      "tatapower swiggy\n",
      "mrf zomato\n",
      "mrf ncc\n",
      "mrf suthbank\n",
      "mrf tatapower\n",
      "mrf mrf\n",
      "mrf irctc\n",
      "mrf vedanta\n",
      "mrf hotel\n",
      "mrf swiggy\n",
      "irctc zomato\n",
      "irctc ncc\n",
      "irctc suthbank\n",
      "irctc tatapower\n",
      "irctc mrf\n",
      "irctc irctc\n",
      "irctc vedanta\n",
      "irctc hotel\n",
      "irctc swiggy\n",
      "vedanta zomato\n",
      "vedanta ncc\n",
      "vedanta suthbank\n",
      "vedanta tatapower\n",
      "vedanta mrf\n",
      "vedanta irctc\n",
      "vedanta vedanta\n",
      "vedanta hotel\n",
      "vedanta swiggy\n",
      "hotel zomato\n",
      "hotel ncc\n",
      "hotel suthbank\n",
      "hotel tatapower\n",
      "hotel mrf\n",
      "hotel irctc\n",
      "hotel vedanta\n",
      "hotel hotel\n",
      "hotel swiggy\n",
      "swiggy zomato\n",
      "swiggy ncc\n",
      "swiggy suthbank\n",
      "swiggy tatapower\n",
      "swiggy mrf\n",
      "swiggy irctc\n",
      "swiggy vedanta\n",
      "swiggy hotel\n",
      "swiggy swiggy\n"
     ]
    }
   ],
   "source": [
    "\n",
    "for x in mstock:\n",
    "  for y in mstock:\n",
    "    print(x, y)"
   ]
  },
  {
   "cell_type": "markdown",
   "metadata": {},
   "source": [
    "# While loop"
   ]
  },
  {
   "cell_type": "code",
   "execution_count": 48,
   "metadata": {},
   "outputs": [
    {
     "name": "stdout",
     "output_type": "stream",
     "text": [
      "1\n",
      "2\n",
      "3\n",
      "4\n",
      "5\n",
      "6\n",
      "7\n",
      "8\n",
      "9\n",
      "10\n",
      "11\n",
      "12\n",
      "13\n",
      "14\n",
      "15\n",
      "16\n",
      "17\n",
      "18\n",
      "19\n"
     ]
    }
   ],
   "source": [
    "i = 1\n",
    "while i < 20:\n",
    "  print(i)\n",
    "  i += 1"
   ]
  },
  {
   "cell_type": "code",
   "execution_count": 50,
   "metadata": {},
   "outputs": [
    {
     "name": "stdout",
     "output_type": "stream",
     "text": [
      "1\n",
      "4\n",
      "7\n",
      "10\n",
      "13\n"
     ]
    }
   ],
   "source": [
    "i = 1\n",
    "while i < 15:\n",
    "  print(i)\n",
    "  i += 3"
   ]
  },
  {
   "cell_type": "code",
   "execution_count": 52,
   "metadata": {},
   "outputs": [
    {
     "name": "stdout",
     "output_type": "stream",
     "text": [
      "2\n",
      "3\n",
      "4\n"
     ]
    }
   ],
   "source": [
    "i = 2\n",
    "while i < 5:\n",
    "  print(i)\n",
    "  if i == 6:\n",
    "    break\n",
    "  i += 1"
   ]
  },
  {
   "cell_type": "code",
   "execution_count": 54,
   "metadata": {},
   "outputs": [
    {
     "name": "stdout",
     "output_type": "stream",
     "text": [
      "4\n",
      "5\n",
      "7\n",
      "8\n"
     ]
    }
   ],
   "source": [
    "i = 3\n",
    "while i < 8:\n",
    "  i += 1\n",
    "  if i == 6:\n",
    "    continue\n",
    "  print(i)"
   ]
  },
  {
   "cell_type": "code",
   "execution_count": 55,
   "metadata": {},
   "outputs": [
    {
     "name": "stdout",
     "output_type": "stream",
     "text": [
      "1\n",
      "2\n",
      "4\n",
      "5\n"
     ]
    }
   ],
   "source": [
    "\n",
    "i = 0\n",
    "while i < 5:\n",
    "  i += 1\n",
    "  if i == 3:\n",
    "    continue\n",
    "  print(i)"
   ]
  },
  {
   "cell_type": "code",
   "execution_count": null,
   "metadata": {},
   "outputs": [],
   "source": []
  }
 ],
 "metadata": {
  "kernelspec": {
   "display_name": "Python 3",
   "language": "python",
   "name": "python3"
  },
  "language_info": {
   "codemirror_mode": {
    "name": "ipython",
    "version": 3
   },
   "file_extension": ".py",
   "mimetype": "text/x-python",
   "name": "python",
   "nbconvert_exporter": "python",
   "pygments_lexer": "ipython3",
   "version": "3.12.3"
  }
 },
 "nbformat": 4,
 "nbformat_minor": 2
}
