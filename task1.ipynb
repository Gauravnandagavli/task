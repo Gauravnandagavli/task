{
 "cells": [
  {
   "cell_type": "markdown",
   "id": "2de6966c-cf6e-4933-b2c6-e997f1d9665f",
   "metadata": {},
   "source": [
    "# Min Function\n"
   ]
  },
  {
   "cell_type": "code",
   "execution_count": 4,
   "id": "42cd6c3d-42ca-4cfd-9f27-0b2ec31a7e53",
   "metadata": {},
   "outputs": [
    {
     "data": {
      "text/plain": [
       "(25, 56, 85, 100, 5, 4, 85, 2, 87, 500)"
      ]
     },
     "execution_count": 4,
     "metadata": {},
     "output_type": "execute_result"
    }
   ],
   "source": [
    "num = ( 25,56,85,100,5,4,85,2,87,500)\n",
    "num"
   ]
  },
  {
   "cell_type": "markdown",
   "id": "4cefc344-8740-43b4-8986-4e1a0ece4f9d",
   "metadata": {},
   "source": [
    "min(num)"
   ]
  },
  {
   "cell_type": "code",
   "execution_count": null,
   "id": "694b5c84-ced0-4adb-a0c2-c81b05a403eb",
   "metadata": {},
   "outputs": [],
   "source": []
  },
  {
   "cell_type": "markdown",
   "id": "5d19d40c-4683-45eb-9f64-89a44e35b2f1",
   "metadata": {},
   "source": [
    "# Max Function"
   ]
  },
  {
   "cell_type": "code",
   "execution_count": 7,
   "id": "9aec9a4c-de9c-4d7f-9b93-b15b62ff2fdf",
   "metadata": {},
   "outputs": [
    {
     "data": {
      "text/plain": [
       "(203, 201, 856, 701, 845, 56998, 56, 5236, 4521, 5587)"
      ]
     },
     "execution_count": 7,
     "metadata": {},
     "output_type": "execute_result"
    }
   ],
   "source": [
    "num = (203,201,856,701,845,56998,56,5236,4521,5587)\n",
    "num"
   ]
  },
  {
   "cell_type": "code",
   "execution_count": 8,
   "id": "1a94ddd9-6212-41f0-b18f-8bfb457df358",
   "metadata": {},
   "outputs": [
    {
     "data": {
      "text/plain": [
       "56998"
      ]
     },
     "execution_count": 8,
     "metadata": {},
     "output_type": "execute_result"
    }
   ],
   "source": [
    "max(num)"
   ]
  },
  {
   "cell_type": "code",
   "execution_count": null,
   "id": "fa975b47-5928-4684-880e-af2368e3141d",
   "metadata": {},
   "outputs": [],
   "source": []
  },
  {
   "cell_type": "markdown",
   "id": "3d342770-3d80-4524-9a46-9b7043ddda6c",
   "metadata": {},
   "source": [
    "# Insert Function"
   ]
  },
  {
   "cell_type": "code",
   "execution_count": 54,
   "id": "b5f6a969-290d-4587-9ec8-fc7823485113",
   "metadata": {},
   "outputs": [
    {
     "data": {
      "text/plain": [
       "('ab', 'bc', 'cd', 'de')"
      ]
     },
     "execution_count": 54,
     "metadata": {},
     "output_type": "execute_result"
    }
   ],
   "source": [
    "my_list = (\"ab\",\"bc\",\"cd\",\"de\")\n",
    "my_list"
   ]
  },
  {
   "cell_type": "code",
   "execution_count": 49,
   "id": "2ba77202-0926-423d-9d90-03691f8e407f",
   "metadata": {},
   "outputs": [
    {
     "name": "stdout",
     "output_type": "stream",
     "text": [
      "ef ('ab', 'bc', 'cd', 'de')\n"
     ]
    }
   ],
   "source": [
    "print(\"ef\",my_list)"
   ]
  },
  {
   "cell_type": "code",
   "execution_count": null,
   "id": "3f3c2286-0f38-4bd9-84f0-93310f6f2b53",
   "metadata": {},
   "outputs": [],
   "source": [
    "\n"
   ]
  },
  {
   "cell_type": "markdown",
   "id": "be6d4168-2fca-4299-ac7d-9b1cbbb5ae47",
   "metadata": {},
   "source": [
    "# Clear Fuction"
   ]
  },
  {
   "cell_type": "code",
   "execution_count": 64,
   "id": "5ef6be7b-2a2b-4067-9ead-1db6f2b35130",
   "metadata": {},
   "outputs": [
    {
     "data": {
      "text/plain": [
       "('nagpur', 'wardha', 'bhandara', 'hingnaghat')"
      ]
     },
     "execution_count": 64,
     "metadata": {},
     "output_type": "execute_result"
    }
   ],
   "source": [
    "city_list = (\"nagpur\",\"wardha\",\"bhandara\",\"hingnaghat\")\n",
    "city_list"
   ]
  },
  {
   "cell_type": "code",
   "execution_count": 88,
   "id": "601e4d9c-b5be-499d-96bc-d04c590f1c87",
   "metadata": {},
   "outputs": [],
   "source": [
    "city_list = ()"
   ]
  },
  {
   "cell_type": "code",
   "execution_count": 89,
   "id": "6dbdcb43-181b-44d2-8af9-849bccc2ead5",
   "metadata": {},
   "outputs": [
    {
     "data": {
      "text/plain": [
       "()"
      ]
     },
     "execution_count": 89,
     "metadata": {},
     "output_type": "execute_result"
    }
   ],
   "source": [
    "city_list"
   ]
  },
  {
   "cell_type": "code",
   "execution_count": null,
   "id": "e714f934-503a-4531-bf01-19f06321e04e",
   "metadata": {},
   "outputs": [],
   "source": []
  },
  {
   "cell_type": "markdown",
   "id": "42125aa5-8a24-419f-8f9c-52f21c60962a",
   "metadata": {},
   "source": [
    "# min,max,avg funtion"
   ]
  },
  {
   "cell_type": "code",
   "execution_count": 92,
   "id": "21846eaa-06cb-44c9-af02-e5e6a737f5f1",
   "metadata": {},
   "outputs": [
    {
     "data": {
      "text/plain": [
       "[5, 10, 15, 20, 25]"
      ]
     },
     "execution_count": 92,
     "metadata": {},
     "output_type": "execute_result"
    }
   ],
   "source": [
    "numbers = [5, 10, 15, 20, 25]\n",
    "numbers"
   ]
  },
  {
   "cell_type": "code",
   "execution_count": 104,
   "id": "76f79bbf-ea93-49da-914b-f4f4eba29196",
   "metadata": {},
   "outputs": [
    {
     "name": "stdout",
     "output_type": "stream",
     "text": [
      "Average value: 15.0\n"
     ]
    }
   ],
   "source": [
    "print(\"Average value:\", average)"
   ]
  },
  {
   "cell_type": "code",
   "execution_count": null,
   "id": "b0779645-7921-45ed-9a6f-3318b6cd008b",
   "metadata": {},
   "outputs": [],
   "source": []
  }
 ],
 "metadata": {
  "kernelspec": {
   "display_name": "Python 3 (ipykernel)",
   "language": "python",
   "name": "python3"
  },
  "language_info": {
   "codemirror_mode": {
    "name": "ipython",
    "version": 3
   },
   "file_extension": ".py",
   "mimetype": "text/x-python",
   "name": "python",
   "nbconvert_exporter": "python",
   "pygments_lexer": "ipython3",
   "version": "3.11.7"
  }
 },
 "nbformat": 4,
 "nbformat_minor": 5
}
