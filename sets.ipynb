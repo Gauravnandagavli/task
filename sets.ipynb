{
 "cells": [
  {
   "cell_type": "markdown",
   "id": "e9285e1b-b704-4fc9-a970-e76e38340b5b",
   "metadata": {},
   "source": [
    "# Sest"
   ]
  },
  {
   "cell_type": "code",
   "execution_count": 1,
   "id": "4db12d29-bba6-4e5d-ae18-64d66d0848b4",
   "metadata": {},
   "outputs": [
    {
     "data": {
      "text/plain": [
       "{1, 'a', 'false'}"
      ]
     },
     "execution_count": 1,
     "metadata": {},
     "output_type": "execute_result"
    }
   ],
   "source": [
    "g1 = {1,'a','false'}\n",
    "g1"
   ]
  },
  {
   "cell_type": "code",
   "execution_count": null,
   "id": "60d4ddd1-0cf7-4f6f-ac26-083466b0c2b3",
   "metadata": {},
   "outputs": [],
   "source": [
    "\n"
   ]
  },
  {
   "cell_type": "markdown",
   "id": "ef00b753-0e96-482a-b134-a8659bae9f82",
   "metadata": {},
   "source": [
    "# Add"
   ]
  },
  {
   "cell_type": "code",
   "execution_count": 3,
   "id": "217ed5d2-d4fa-4d75-aa3e-09b171faf4b2",
   "metadata": {},
   "outputs": [
    {
     "data": {
      "text/plain": [
       "{1, 'a', 'false'}"
      ]
     },
     "execution_count": 3,
     "metadata": {},
     "output_type": "execute_result"
    }
   ],
   "source": [
    "g1"
   ]
  },
  {
   "cell_type": "code",
   "execution_count": 5,
   "id": "1d4ddd15-a0c6-449b-9694-af7f86cfe4d7",
   "metadata": {},
   "outputs": [],
   "source": [
    "g1.add('z')"
   ]
  },
  {
   "cell_type": "code",
   "execution_count": 6,
   "id": "abad9031-f2c1-4b05-9024-d05c9ddd7df7",
   "metadata": {},
   "outputs": [
    {
     "data": {
      "text/plain": [
       "{1, 'a', 'false', 'z'}"
      ]
     },
     "execution_count": 6,
     "metadata": {},
     "output_type": "execute_result"
    }
   ],
   "source": [
    "g1"
   ]
  },
  {
   "cell_type": "code",
   "execution_count": null,
   "id": "f479a44c-1471-4de3-be87-16a08abc1634",
   "metadata": {},
   "outputs": [],
   "source": []
  },
  {
   "cell_type": "markdown",
   "id": "012d08e3-8dbb-4805-b681-1fc031f67773",
   "metadata": {},
   "source": [
    "# Clear"
   ]
  },
  {
   "cell_type": "code",
   "execution_count": 8,
   "id": "9267e425-cadd-48ea-ab57-1b0cb68f3d89",
   "metadata": {},
   "outputs": [
    {
     "data": {
      "text/plain": [
       "{1, 'a', 'false', 'z'}"
      ]
     },
     "execution_count": 8,
     "metadata": {},
     "output_type": "execute_result"
    }
   ],
   "source": [
    "g1"
   ]
  },
  {
   "cell_type": "code",
   "execution_count": 9,
   "id": "f28706ca-ec51-4602-8890-702914e88999",
   "metadata": {},
   "outputs": [],
   "source": [
    "g1.clear()"
   ]
  },
  {
   "cell_type": "code",
   "execution_count": 10,
   "id": "48ae0409-513b-4e26-b25d-5281b96d5edd",
   "metadata": {},
   "outputs": [
    {
     "data": {
      "text/plain": [
       "set()"
      ]
     },
     "execution_count": 10,
     "metadata": {},
     "output_type": "execute_result"
    }
   ],
   "source": [
    "g1"
   ]
  },
  {
   "cell_type": "code",
   "execution_count": null,
   "id": "76e33cd8-a21d-42e3-b44a-d3f973576884",
   "metadata": {},
   "outputs": [],
   "source": []
  },
  {
   "cell_type": "code",
   "execution_count": null,
   "id": "e5686fa1-3103-4351-b72d-7494947b498b",
   "metadata": {},
   "outputs": [],
   "source": []
  },
  {
   "cell_type": "markdown",
   "id": "a0728e3a-473b-425b-bb60-f3c58caeeee1",
   "metadata": {},
   "source": [
    "# Union"
   ]
  },
  {
   "cell_type": "code",
   "execution_count": 15,
   "id": "ed99244e-1064-4f54-9f8c-09faa44b80cc",
   "metadata": {},
   "outputs": [],
   "source": [
    "g1 = {10,20,30,40,50}\n",
    "g2 = {50,60,70,80,90,100}"
   ]
  },
  {
   "cell_type": "code",
   "execution_count": 16,
   "id": "736e05c5-09fb-4702-97e9-09f3bd640c35",
   "metadata": {},
   "outputs": [
    {
     "data": {
      "text/plain": [
       "{10, 20, 30, 40, 50, 60, 70, 80, 90, 100}"
      ]
     },
     "execution_count": 16,
     "metadata": {},
     "output_type": "execute_result"
    }
   ],
   "source": [
    "g1.union(g2)"
   ]
  },
  {
   "cell_type": "code",
   "execution_count": 17,
   "id": "bc07be9a-16c3-44d9-8c0e-90abab4df89a",
   "metadata": {},
   "outputs": [
    {
     "data": {
      "text/plain": [
       "{50, 60, 70, 80, 90, 100}"
      ]
     },
     "execution_count": 17,
     "metadata": {},
     "output_type": "execute_result"
    }
   ],
   "source": [
    "g2"
   ]
  },
  {
   "cell_type": "code",
   "execution_count": 19,
   "id": "5df5c5ee-5514-43da-a32d-6ea9433d4b89",
   "metadata": {},
   "outputs": [
    {
     "data": {
      "text/plain": [
       "{50}"
      ]
     },
     "execution_count": 19,
     "metadata": {},
     "output_type": "execute_result"
    }
   ],
   "source": [
    "g1.intersection(g2)"
   ]
  },
  {
   "cell_type": "code",
   "execution_count": null,
   "id": "e77af4d6-2c02-47b8-b0ea-2dcd3e64b786",
   "metadata": {},
   "outputs": [],
   "source": []
  },
  {
   "cell_type": "code",
   "execution_count": null,
   "id": "49188b93-639f-4ba4-ae9e-16c58eba7bbb",
   "metadata": {},
   "outputs": [],
   "source": []
  },
  {
   "cell_type": "markdown",
   "id": "dc1283b8-a692-44ea-8856-a5476deaf0d4",
   "metadata": {},
   "source": [
    "# Difference"
   ]
  },
  {
   "cell_type": "code",
   "execution_count": 24,
   "id": "7e08908e-3314-47b4-a1c8-517bc717636a",
   "metadata": {},
   "outputs": [],
   "source": [
    "g1 = {50,80,90,100}\n",
    "g2 = {50,80,90}"
   ]
  },
  {
   "cell_type": "code",
   "execution_count": 27,
   "id": "382df6c6-37f8-4d9f-8198-423f4cc8ffa6",
   "metadata": {},
   "outputs": [
    {
     "data": {
      "text/plain": [
       "{100}"
      ]
     },
     "execution_count": 27,
     "metadata": {},
     "output_type": "execute_result"
    }
   ],
   "source": [
    "g1.difference(g2)"
   ]
  },
  {
   "cell_type": "code",
   "execution_count": null,
   "id": "5c95aceb-9688-478a-95ba-ef4ccb00652d",
   "metadata": {},
   "outputs": [],
   "source": []
  }
 ],
 "metadata": {
  "kernelspec": {
   "display_name": "Python 3 (ipykernel)",
   "language": "python",
   "name": "python3"
  },
  "language_info": {
   "codemirror_mode": {
    "name": "ipython",
    "version": 3
   },
   "file_extension": ".py",
   "mimetype": "text/x-python",
   "name": "python",
   "nbconvert_exporter": "python",
   "pygments_lexer": "ipython3",
   "version": "3.11.7"
  }
 },
 "nbformat": 4,
 "nbformat_minor": 5
}
