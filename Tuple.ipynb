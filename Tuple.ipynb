{
 "cells": [
  {
   "cell_type": "markdown",
   "id": "7943437a-4fd2-48e5-93ff-ed8c24f6d307",
   "metadata": {},
   "source": [
    "# Createtuple"
   ]
  },
  {
   "cell_type": "code",
   "execution_count": 7,
   "id": "1aa62507-4efe-41d3-a473-b1840c7e6cb3",
   "metadata": {},
   "outputs": [
    {
     "name": "stdout",
     "output_type": "stream",
     "text": [
      "('zomato', 'swiggy', 'yatra')\n"
     ]
    }
   ],
   "source": [
    "s1 = ('zomato','swiggy','yatra')\n",
    "print (s1)"
   ]
  },
  {
   "cell_type": "code",
   "execution_count": null,
   "id": "9e7d765c-a113-4598-b8ea-33ac8a0cd15a",
   "metadata": {},
   "outputs": [],
   "source": []
  },
  {
   "cell_type": "code",
   "execution_count": null,
   "id": "3f8268ac-2466-4fdf-9f37-0e6d6a2606e4",
   "metadata": {},
   "outputs": [],
   "source": []
  },
  {
   "cell_type": "markdown",
   "id": "94840f64-dcc8-45ac-88f2-825def8e4a8c",
   "metadata": {},
   "source": [
    "# Function of tuple"
   ]
  },
  {
   "cell_type": "code",
   "execution_count": 10,
   "id": "6b328817-be91-427a-b213-6e59c59c4435",
   "metadata": {},
   "outputs": [
    {
     "name": "stdout",
     "output_type": "stream",
     "text": [
      "('zomato', 'swiggy', 'yatra')\n"
     ]
    }
   ],
   "source": [
    "s1 = ('zomato','swiggy','yatra')\n",
    "print (s1)"
   ]
  },
  {
   "cell_type": "code",
   "execution_count": 11,
   "id": "fc6a3299-e1c5-42e9-8731-0fa4322f60fe",
   "metadata": {},
   "outputs": [
    {
     "data": {
      "text/plain": [
       "3"
      ]
     },
     "execution_count": 11,
     "metadata": {},
     "output_type": "execute_result"
    }
   ],
   "source": [
    "len(s1)"
   ]
  },
  {
   "cell_type": "markdown",
   "id": "6f0caf21-9404-43fc-b25d-73b8c71d962e",
   "metadata": {},
   "source": [
    "# Count"
   ]
  },
  {
   "cell_type": "code",
   "execution_count": 12,
   "id": "c26f5681-4fbd-4a50-b05d-44a8cccfd734",
   "metadata": {},
   "outputs": [
    {
     "data": {
      "text/plain": [
       "(20, 23, 54, 85, 645, 87)"
      ]
     },
     "execution_count": 12,
     "metadata": {},
     "output_type": "execute_result"
    }
   ],
   "source": [
    "c2 = (20,23,54,85,645,87)\n",
    "c2"
   ]
  },
  {
   "cell_type": "code",
   "execution_count": 17,
   "id": "98b13ad5-3330-437f-b105-3ad50cef807c",
   "metadata": {},
   "outputs": [
    {
     "data": {
      "text/plain": [
       "1"
      ]
     },
     "execution_count": 17,
     "metadata": {},
     "output_type": "execute_result"
    }
   ],
   "source": [
    "c2.count(87)"
   ]
  },
  {
   "cell_type": "code",
   "execution_count": null,
   "id": "162add85-03f7-4367-90e9-998d8b6a9a4d",
   "metadata": {},
   "outputs": [],
   "source": []
  },
  {
   "cell_type": "code",
   "execution_count": null,
   "id": "94b858ee-c106-4bfe-96e1-a38fce53bd50",
   "metadata": {},
   "outputs": [],
   "source": []
  },
  {
   "cell_type": "markdown",
   "id": "faf01d22-b6c3-4e2f-a84b-a024b4895151",
   "metadata": {},
   "source": [
    "# Sorted"
   ]
  },
  {
   "cell_type": "code",
   "execution_count": 19,
   "id": "9ef24bd8-2f42-44a3-947b-ef8227158e3a",
   "metadata": {},
   "outputs": [
    {
     "data": {
      "text/plain": [
       "(5, 8, 2, 6, 9, 11)"
      ]
     },
     "execution_count": 19,
     "metadata": {},
     "output_type": "execute_result"
    }
   ],
   "source": [
    "g2 = (5,8,2,6,9,11)\n",
    "g2"
   ]
  },
  {
   "cell_type": "code",
   "execution_count": 20,
   "id": "792f93af-4be7-47e8-8349-2fc0917c5860",
   "metadata": {},
   "outputs": [
    {
     "data": {
      "text/plain": [
       "[2, 5, 6, 8, 9, 11]"
      ]
     },
     "execution_count": 20,
     "metadata": {},
     "output_type": "execute_result"
    }
   ],
   "source": [
    "sorted(g2)"
   ]
  },
  {
   "cell_type": "code",
   "execution_count": null,
   "id": "5798da47-3332-4189-86cd-da5c46f21ed4",
   "metadata": {},
   "outputs": [],
   "source": []
  }
 ],
 "metadata": {
  "kernelspec": {
   "display_name": "Python 3 (ipykernel)",
   "language": "python",
   "name": "python3"
  },
  "language_info": {
   "codemirror_mode": {
    "name": "ipython",
    "version": 3
   },
   "file_extension": ".py",
   "mimetype": "text/x-python",
   "name": "python",
   "nbconvert_exporter": "python",
   "pygments_lexer": "ipython3",
   "version": "3.11.7"
  }
 },
 "nbformat": 4,
 "nbformat_minor": 5
}
