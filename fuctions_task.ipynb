{
 "cells": [
  {
   "cell_type": "code",
   "execution_count": 48,
   "id": "fa2ff73a-1079-47de-9482-9a00e538b8c6",
   "metadata": {},
   "outputs": [
    {
     "name": "stdout",
     "output_type": "stream",
     "text": [
      "This is a dictionary\n",
      "{'state1': 'maharashtra', 'state2': 'goa', 'state3': 'gujrat'}\n"
     ]
    }
   ],
   "source": [
    "print('This is a dictionary')\n",
    "def stateName(val1,val2,val3):\n",
    "    join_Name = f'{val1}{val2}{val3}'\n",
    "    result = {'state1':val1,'state2':val2,'state3':val3,}\n",
    "    return result\n",
    "val1 = \"maharashtra\"\n",
    "val2 = \"goa\"\n",
    "val3 = \"gujrat\"\n",
    "output = stateName(val1,val2,val3)\n",
    "print(output)"
   ]
  },
  {
   "cell_type": "code",
   "execution_count": 28,
   "id": "d310ba16-d94b-4277-9a5b-eadbf04efa8d",
   "metadata": {},
   "outputs": [
    {
     "name": "stdout",
     "output_type": "stream",
     "text": [
      "{'state1': 'maharatshtra', 'state2': 'goa', 'state3': 'gujrat'}\n"
     ]
    }
   ],
   "source": [
    "print(output)"
   ]
  },
  {
   "cell_type": "code",
   "execution_count": 33,
   "id": "728e45df-e09e-43b4-9b2a-ee604cdd9f84",
   "metadata": {},
   "outputs": [],
   "source": [
    "def my_function(g1,g2,g3):\n",
    "    joint_name = f'{g1}{g2}{g3}'\n",
    "    result = { 'tatapower':g1,'ncc':g2,'mrf':g3,}\n",
    "    return result\n",
    "g1 = \"bombay\"\n",
    "g2 = \"solna\"\n",
    "g3 = \"chennai\"\n",
    "output = my_function(g1,g2,g3)"
   ]
  },
  {
   "cell_type": "code",
   "execution_count": 34,
   "id": "fdfa38e0-6257-4b1b-861c-a12581437016",
   "metadata": {},
   "outputs": [
    {
     "name": "stdout",
     "output_type": "stream",
     "text": [
      "{'tatapower': 'bombay', 'ncc': 'solna', 'mrf': 'chennai'}\n"
     ]
    }
   ],
   "source": [
    "print(output)"
   ]
  },
  {
   "cell_type": "code",
   "execution_count": null,
   "id": "cb0b6530-b5ff-467e-b939-0945fcbed6c5",
   "metadata": {},
   "outputs": [],
   "source": []
  }
 ],
 "metadata": {
  "kernelspec": {
   "display_name": "Python 3 (ipykernel)",
   "language": "python",
   "name": "python3"
  },
  "language_info": {
   "codemirror_mode": {
    "name": "ipython",
    "version": 3
   },
   "file_extension": ".py",
   "mimetype": "text/x-python",
   "name": "python",
   "nbconvert_exporter": "python",
   "pygments_lexer": "ipython3",
   "version": "3.11.7"
  }
 },
 "nbformat": 4,
 "nbformat_minor": 5
}
